{
 "cells": [
  {
   "cell_type": "markdown",
   "metadata": {},
   "source": [
    "# Snippets\n",
    "\n",
    "Maybe useful somewhere, sometime."
   ]
  },
  {
   "cell_type": "markdown",
   "metadata": {},
   "source": [
    "## Geohash"
   ]
  },
  {
   "cell_type": "code",
   "execution_count": null,
   "metadata": {},
   "outputs": [],
   "source": [
    "import geohash\n",
    "\n",
    "def geohashes_for_geometry(geometry, precision=[7, 6, 4, 3]):\n",
    "    _lon = geometry.coords.xy[0][0]\n",
    "    _lat = geometry.coords.xy[1][0]\n",
    "    _geohash = geohash.encode(_lat, _lon, precision=precision[0])\n",
    "    _output = [_geohash[0:p] for p in precision]\n",
    "    return pd.Series(_output)\n",
    "\n",
    "\n",
    "for dataframe in _df:\n",
    "    geohashes = ['geometry'].apply(geohashes_for_geometry, precision=[4])\n",
    "geohashes = geohashes.rename(columns={0: 'geohash_5'})"
   ]
  }
 ],
 "metadata": {
  "kernelspec": {
   "display_name": "Python 3",
   "language": "python",
   "name": "python3"
  },
  "language_info": {
   "codemirror_mode": {
    "name": "ipython",
    "version": 3
   },
   "file_extension": ".py",
   "mimetype": "text/x-python",
   "name": "python",
   "nbconvert_exporter": "python",
   "pygments_lexer": "ipython3",
   "version": "3.6.4"
  }
 },
 "nbformat": 4,
 "nbformat_minor": 2
}
