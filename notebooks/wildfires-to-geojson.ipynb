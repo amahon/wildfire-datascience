{
 "cells": [
  {
   "cell_type": "markdown",
   "metadata": {},
   "source": [
    "https://www.kaggle.com/rtatman/188-million-us-wildfires\n",
    "\n",
    "https://www.fs.usda.gov/rds/archive/Product/RDS-2013-0009.4/"
   ]
  },
  {
   "cell_type": "markdown",
   "metadata": {},
   "source": [
    "## Prepare Notebook"
   ]
  },
  {
   "cell_type": "code",
   "execution_count": 1,
   "metadata": {
    "ExecuteTime": {
     "end_time": "2018-02-13T18:30:05.926996Z",
     "start_time": "2018-02-13T18:30:05.303381Z"
    }
   },
   "outputs": [],
   "source": [
    "import os\n",
    "import pandas as pd\n",
    "from geopandas import GeoDataFrame\n",
    "import shapely\n",
    "shapely.speedups.enable()\n",
    "\n",
    "import palettable\n",
    "\n",
    "import mapbox\n",
    "import palettable\n",
    "\n",
    "import sqlite3\n",
    "\n",
    "import warnings\n",
    "warnings.filterwarnings('ignore')\n",
    "\n",
    "import fiona\n",
    "fiona.supported_drivers\n",
    "\n",
    "input_filename = '../data/188-million-us-wildfires/src/FPA_FOD_20170508.sqlite'\n",
    "conn = sqlite3.connect(input_filename)"
   ]
  },
  {
   "cell_type": "markdown",
   "metadata": {},
   "source": [
    "The whole process of bringing the data into a DataFrame, converting that into a GeoDataFrame, and then dumping out a file is not particularly optimal. That said, it may prove to be useful if we choose to engineer any new features before rendering the map.\n",
    "\n",
    "The data we're working with contains coordinates in the [NAD83](https://en.wikipedia.org/wiki/North_American_Datum) coordinate system. In order to work with `tippecanoe` we will want to reproject the data into [WGS 84](https://en.wikipedia.org/wiki/World_Geodetic_System).\n",
    "\n",
    "Let's take a quick peek at our data to ensure it look's reasonable."
   ]
  },
  {
   "cell_type": "markdown",
   "metadata": {},
   "source": [
    "## Load Data"
   ]
  },
  {
   "cell_type": "code",
   "execution_count": 2,
   "metadata": {
    "ExecuteTime": {
     "end_time": "2018-02-13T18:31:58.086200Z",
     "start_time": "2018-02-13T18:30:07.139130Z"
    }
   },
   "outputs": [],
   "source": [
    "query = '''\n",
    "    SELECT\n",
    "        NWCG_REPORTING_AGENCY,\n",
    "        NWCG_REPORTING_UNIT_ID,\n",
    "        NWCG_REPORTING_UNIT_NAME,\n",
    "        FIRE_NAME,\n",
    "        COMPLEX_NAME,\n",
    "        FIRE_YEAR,\n",
    "        DISCOVERY_DATE,\n",
    "        DISCOVERY_DOY,\n",
    "        DISCOVERY_TIME,\n",
    "        STAT_CAUSE_CODE,\n",
    "        STAT_CAUSE_DESCR,\n",
    "        CONT_DATE,\n",
    "        CONT_DOY,\n",
    "        CONT_TIME,\n",
    "        FIRE_SIZE,\n",
    "        FIRE_SIZE_CLASS,\n",
    "        LATITUDE,\n",
    "        LONGITUDE,\n",
    "        OWNER_CODE,\n",
    "        OWNER_DESCR,\n",
    "        STATE,\n",
    "        COUNTY\n",
    "    FROM\n",
    "        Fires;\n",
    "'''\n",
    "\n",
    "df = pd.read_sql_query(query, conn)\n",
    "geometry = [shapely.geometry.Point(xy) for xy in zip(df.LONGITUDE, df.LATITUDE)]\n",
    "df.drop(['LONGITUDE', 'LATITUDE'], axis=1, inplace=True)\n",
    "crs = {'init': 'epsg:4269'}\n",
    "gdf = GeoDataFrame(df, crs=crs, geometry=geometry)\n",
    "del df\n",
    "gdf = gdf.to_crs({'init': 'epsg:4326'})"
   ]
  },
  {
   "cell_type": "markdown",
   "metadata": {},
   "source": [
    "## Map Visualization\n",
    "\n",
    "### Generate Colors for STAT_CAUSE_CODE\n",
    "\n",
    "Let's dig into the causes of fires a bit more. First, we'll list out all of the possible values.\n",
    "\n",
    "To save space in our vector tiles, we'll include the Cause Code rather than the Cause Description. To display human readable names, let's build a quick mapping and print it to json for inclusion in our JS."
   ]
  },
  {
   "cell_type": "code",
   "execution_count": 3,
   "metadata": {
    "ExecuteTime": {
     "end_time": "2018-02-13T18:31:58.390396Z",
     "start_time": "2018-02-13T18:31:58.087782Z"
    },
    "scrolled": false
   },
   "outputs": [
    {
     "data": {
      "text/html": [
       "<div>\n",
       "<style scoped>\n",
       "    .dataframe tbody tr th:only-of-type {\n",
       "        vertical-align: middle;\n",
       "    }\n",
       "\n",
       "    .dataframe tbody tr th {\n",
       "        vertical-align: top;\n",
       "    }\n",
       "\n",
       "    .dataframe thead th {\n",
       "        text-align: right;\n",
       "    }\n",
       "</style>\n",
       "<table border=\"1\" class=\"dataframe\">\n",
       "  <thead>\n",
       "    <tr style=\"text-align: right;\">\n",
       "      <th></th>\n",
       "      <th>STAT_CAUSE_DESCR</th>\n",
       "      <th>STAT_CAUSE_CODE</th>\n",
       "      <th>n_occurances</th>\n",
       "      <th>color</th>\n",
       "    </tr>\n",
       "  </thead>\n",
       "  <tbody>\n",
       "    <tr>\n",
       "      <th>0</th>\n",
       "      <td>Debris Burning</td>\n",
       "      <td>5</td>\n",
       "      <td>429028</td>\n",
       "      <td>#000004</td>\n",
       "    </tr>\n",
       "    <tr>\n",
       "      <th>1</th>\n",
       "      <td>Miscellaneous</td>\n",
       "      <td>9</td>\n",
       "      <td>323805</td>\n",
       "      <td>#110A30</td>\n",
       "    </tr>\n",
       "    <tr>\n",
       "      <th>2</th>\n",
       "      <td>Arson</td>\n",
       "      <td>7</td>\n",
       "      <td>281455</td>\n",
       "      <td>#320A5E</td>\n",
       "    </tr>\n",
       "    <tr>\n",
       "      <th>3</th>\n",
       "      <td>Lightning</td>\n",
       "      <td>1</td>\n",
       "      <td>278468</td>\n",
       "      <td>#57106E</td>\n",
       "    </tr>\n",
       "    <tr>\n",
       "      <th>4</th>\n",
       "      <td>Missing/Undefined</td>\n",
       "      <td>13</td>\n",
       "      <td>166723</td>\n",
       "      <td>#781C6D</td>\n",
       "    </tr>\n",
       "    <tr>\n",
       "      <th>5</th>\n",
       "      <td>Equipment Use</td>\n",
       "      <td>2</td>\n",
       "      <td>147612</td>\n",
       "      <td>#9A2865</td>\n",
       "    </tr>\n",
       "    <tr>\n",
       "      <th>6</th>\n",
       "      <td>Campfire</td>\n",
       "      <td>4</td>\n",
       "      <td>76139</td>\n",
       "      <td>#BC3754</td>\n",
       "    </tr>\n",
       "    <tr>\n",
       "      <th>7</th>\n",
       "      <td>Children</td>\n",
       "      <td>8</td>\n",
       "      <td>61167</td>\n",
       "      <td>#D84C3E</td>\n",
       "    </tr>\n",
       "    <tr>\n",
       "      <th>8</th>\n",
       "      <td>Smoking</td>\n",
       "      <td>3</td>\n",
       "      <td>52869</td>\n",
       "      <td>#ED6925</td>\n",
       "    </tr>\n",
       "    <tr>\n",
       "      <th>9</th>\n",
       "      <td>Railroad</td>\n",
       "      <td>6</td>\n",
       "      <td>33455</td>\n",
       "      <td>#F98C0A</td>\n",
       "    </tr>\n",
       "    <tr>\n",
       "      <th>10</th>\n",
       "      <td>Powerline</td>\n",
       "      <td>11</td>\n",
       "      <td>14448</td>\n",
       "      <td>#FCB418</td>\n",
       "    </tr>\n",
       "    <tr>\n",
       "      <th>11</th>\n",
       "      <td>Fireworks</td>\n",
       "      <td>10</td>\n",
       "      <td>11500</td>\n",
       "      <td>#F4DF53</td>\n",
       "    </tr>\n",
       "    <tr>\n",
       "      <th>12</th>\n",
       "      <td>Structure</td>\n",
       "      <td>12</td>\n",
       "      <td>3796</td>\n",
       "      <td>#FCFFA4</td>\n",
       "    </tr>\n",
       "  </tbody>\n",
       "</table>\n",
       "</div>"
      ],
      "text/plain": [
       "     STAT_CAUSE_DESCR  STAT_CAUSE_CODE  n_occurances    color\n",
       "0      Debris Burning                5        429028  #000004\n",
       "1       Miscellaneous                9        323805  #110A30\n",
       "2               Arson                7        281455  #320A5E\n",
       "3           Lightning                1        278468  #57106E\n",
       "4   Missing/Undefined               13        166723  #781C6D\n",
       "5       Equipment Use                2        147612  #9A2865\n",
       "6            Campfire                4         76139  #BC3754\n",
       "7            Children                8         61167  #D84C3E\n",
       "8             Smoking                3         52869  #ED6925\n",
       "9            Railroad                6         33455  #F98C0A\n",
       "10          Powerline               11         14448  #FCB418\n",
       "11          Fireworks               10         11500  #F4DF53\n",
       "12          Structure               12          3796  #FCFFA4"
      ]
     },
     "metadata": {},
     "output_type": "display_data"
    },
    {
     "data": {
      "text/plain": [
       "'[{\"STAT_CAUSE_DESCR\":\"Debris Burning\",\"STAT_CAUSE_CODE\":5,\"n_occurances\":429028,\"color\":\"#000004\"},{\"STAT_CAUSE_DESCR\":\"Miscellaneous\",\"STAT_CAUSE_CODE\":9,\"n_occurances\":323805,\"color\":\"#110A30\"},{\"STAT_CAUSE_DESCR\":\"Arson\",\"STAT_CAUSE_CODE\":7,\"n_occurances\":281455,\"color\":\"#320A5E\"},{\"STAT_CAUSE_DESCR\":\"Lightning\",\"STAT_CAUSE_CODE\":1,\"n_occurances\":278468,\"color\":\"#57106E\"},{\"STAT_CAUSE_DESCR\":\"Missing\\\\/Undefined\",\"STAT_CAUSE_CODE\":13,\"n_occurances\":166723,\"color\":\"#781C6D\"},{\"STAT_CAUSE_DESCR\":\"Equipment Use\",\"STAT_CAUSE_CODE\":2,\"n_occurances\":147612,\"color\":\"#9A2865\"},{\"STAT_CAUSE_DESCR\":\"Campfire\",\"STAT_CAUSE_CODE\":4,\"n_occurances\":76139,\"color\":\"#BC3754\"},{\"STAT_CAUSE_DESCR\":\"Children\",\"STAT_CAUSE_CODE\":8,\"n_occurances\":61167,\"color\":\"#D84C3E\"},{\"STAT_CAUSE_DESCR\":\"Smoking\",\"STAT_CAUSE_CODE\":3,\"n_occurances\":52869,\"color\":\"#ED6925\"},{\"STAT_CAUSE_DESCR\":\"Railroad\",\"STAT_CAUSE_CODE\":6,\"n_occurances\":33455,\"color\":\"#F98C0A\"},{\"STAT_CAUSE_DESCR\":\"Powerline\",\"STAT_CAUSE_CODE\":11,\"n_occurances\":14448,\"color\":\"#FCB418\"},{\"STAT_CAUSE_DESCR\":\"Fireworks\",\"STAT_CAUSE_CODE\":10,\"n_occurances\":11500,\"color\":\"#F4DF53\"},{\"STAT_CAUSE_DESCR\":\"Structure\",\"STAT_CAUSE_CODE\":12,\"n_occurances\":3796,\"color\":\"#FCFFA4\"}]'"
      ]
     },
     "execution_count": 3,
     "metadata": {},
     "output_type": "execute_result"
    }
   ],
   "source": [
    "cause_desc_counts = gdf \\\n",
    "    .groupby(['STAT_CAUSE_DESCR', 'STAT_CAUSE_CODE']) \\\n",
    "    .size()\\\n",
    "    .reset_index()\\\n",
    "    .rename(columns={0:\"n_occurances\"})\\\n",
    "    .sort_values(['n_occurances'], ascending=False)\\\n",
    "    .reset_index(drop=True)\n",
    "cause_desc_counts['STAT_CAUSE_CODE'] = cause_desc_counts['STAT_CAUSE_CODE'].astype(int)\n",
    "\n",
    "def assign_color(row):\n",
    "    try:\n",
    "        return palettable.matplotlib.Inferno_13.hex_colors[row.name]\n",
    "    except IndexError:\n",
    "        return '#ff0000'\n",
    "    \n",
    "cause_desc_counts['color'] = cause_desc_counts.apply(assign_color, axis=1)\n",
    "display(cause_desc_counts)\n",
    "cause_desc_counts.to_json(orient='records')"
   ]
  },
  {
   "cell_type": "markdown",
   "metadata": {},
   "source": [
    "Reference: https://gis.stackexchange.com/questions/148834/creating-a-really-large-shapefile-without-eating-all-the-virtual-memory"
   ]
  },
  {
   "cell_type": "markdown",
   "metadata": {},
   "source": [
    "### Point Data to GeoJSON\n",
    "\n",
    "Dump out our GeoDataFrame to GeoJSON. This one takes a while and doesn't provide much feedback while it's in progress. In my experience, the output file is just over 1000MB -- you can keep an eye on the size of that file to check progress."
   ]
  },
  {
   "cell_type": "code",
   "execution_count": null,
   "metadata": {},
   "outputs": [],
   "source": [
    "geojson_filename = '../data/188-million-us-wildfires/FPA_FOD_20170508.geojson'\n",
    "\n",
    "if not os.path.exists(geojson_filename):\n",
    "    gdf.to_file(geojson_filename, driver=\"GeoJSON\")"
   ]
  },
  {
   "cell_type": "markdown",
   "metadata": {},
   "source": [
    "### Tile Generation and Upload\n",
    "\n",
    "#### STAT_CAUSE_CODE"
   ]
  },
  {
   "cell_type": "markdown",
   "metadata": {},
   "source": [
    "Reference: https://github.com/mapbox/tippecanoe\n",
    "\n",
    "`tippecanoe -o FPA_FOD_20170508.mbtiles -f -Z1 -z20 -y DISCOVERY_DATE,CONT_DATE,FIRE_SIZE_CLASS,STAT_CAUSE_CODE --drop-densest-as-needed FPA_FOD_20170508.geojson`"
   ]
  },
  {
   "cell_type": "code",
   "execution_count": null,
   "metadata": {
    "scrolled": false
   },
   "outputs": [],
   "source": [
    "mbtiles_filename = '../data/188-million-us-wildfires/FPA_FOD_20170508.mbtiles'\n",
    "\n",
    "if not os.path.exists(mbtiles_filename):\n",
    "    !tippecanoe -o {mbtiles_filename} -ae -D 18 -d 18 -m 10 -rg -y DFIRE_YEAR -y STAT_CAUSE_CODE -y FIRE_YEAR -y FIRE_NAME -L fires:{geojson_filename}"
   ]
  },
  {
   "cell_type": "markdown",
   "metadata": {},
   "source": [
    "Reference: https://github.com/mapbox/mapbox-sdk-py https://www.mapbox.com/api-documentation/#uploads"
   ]
  },
  {
   "cell_type": "markdown",
   "metadata": {},
   "source": [
    "Use `mapbox-geostats` to query the resulting mbtiles file. Review the results to ensure that "
   ]
  },
  {
   "cell_type": "code",
   "execution_count": null,
   "metadata": {},
   "outputs": [],
   "source": [
    "!mapbox-geostats {mbtiles_filename}"
   ]
  },
  {
   "cell_type": "markdown",
   "metadata": {},
   "source": [
    "Use `mapbox-tile-copy` to move our tiles up to an S3 bucket. Don't forget to 1) allow public access to the bucket's keys., 2) setup static site hosting, and 3) enable CORS requests."
   ]
  },
  {
   "cell_type": "code",
   "execution_count": null,
   "metadata": {},
   "outputs": [],
   "source": [
    "!mapbox-tile-copy {mbtiles_filename} s3://{s3_destination_bucket}/{z}/{x}/{y}"
   ]
  }
 ],
 "metadata": {
  "kernelspec": {
   "display_name": "Python 3",
   "language": "python",
   "name": "python3"
  },
  "language_info": {
   "codemirror_mode": {
    "name": "ipython",
    "version": 3
   },
   "file_extension": ".py",
   "mimetype": "text/x-python",
   "name": "python",
   "nbconvert_exporter": "python",
   "pygments_lexer": "ipython3",
   "version": "3.6.4"
  },
  "toc": {
   "nav_menu": {},
   "number_sections": true,
   "sideBar": true,
   "skip_h1_title": false,
   "title_cell": "Table of Contents",
   "title_sidebar": "Contents",
   "toc_cell": false,
   "toc_position": {},
   "toc_section_display": true,
   "toc_window_display": false
  }
 },
 "nbformat": 4,
 "nbformat_minor": 2
}
